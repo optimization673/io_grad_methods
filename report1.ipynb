{
 "cells": [
  {
   "cell_type": "markdown",
   "metadata": {},
   "source": [
    "## Метод двойственных усреднений"
   ]
  },
  {
   "cell_type": "code",
   "execution_count": 3,
   "metadata": {},
   "outputs": [],
   "source": [
    "import numpy as np\n",
    "import math\n",
    "import sys\n",
    "\n",
    "\n",
    "SIZE_N = int(3)\n",
    "SIZE_M = int(3)\n",
    "\n",
    "#h\n",
    "STEP_DEF = 0.001\n",
    "\n",
    "\n",
    "DELTA_X_DEF = 0.0000001\n",
    "\n",
    "X0_DEF = np.array([[1], \n",
    "\t\t   [1], \n",
    "\t\t   [1]])\n",
    "\n",
    "SIMPEX_VECTOR_DEF = np.array([[-1], \n",
    "\t\t              [-1], \n",
    "\t\t              [-1]])"
   ]
  },
  {
   "cell_type": "markdown",
   "metadata": {},
   "source": [
    "Минимизируем функцию $f(x) = \\frac{1}{2} \\| Ax - b\\|^2_2$ для заданных матрицы $A$ и вектора $b$."
   ]
  },
  {
   "cell_type": "code",
   "execution_count": 4,
   "metadata": {},
   "outputs": [],
   "source": [
    "A = np.array(\t[[1, 1, 1],\n",
    "\t\t [1, 1, 1],\n",
    "\t\t [1, 1, 1]])\n",
    "\n",
    "\n",
    "b = \t[[1], \n",
    "\t [1], \n",
    "\t [1]]\n",
    "\n",
    "def norm2(vec, size):\n",
    "\tres = float(0)\n",
    "\tfor i in range(size):\n",
    "\t\tres += vec[i]*vec[i]\n",
    "\treturn math.sqrt(res)\n",
    "\n",
    "def func1(x):\n",
    "\tvec = A @ x - b\n",
    "\tres = norm2(vec, SIZE_N)\n",
    "\tres *= res\n",
    "\treturn res"
   ]
  },
  {
   "cell_type": "markdown",
   "metadata": {},
   "source": [
    "Минимизируем функцию на выпуклом множестве $Q = \\mathbb {R}^n$. \n",
    "\n",
    "Шаг метода:\n",
    "$$x_{k+1} = \\arg \\min_{\\mathbb{R}^n}\\left\\{ d(x) + \\left\\langle \\sum_{i=1}^k h_i \\nabla f(x_i),\\ x \\right\\rangle \\right\\},$$ где прокс-функция $d(x) = \\frac{1}{2} \\| x \\|_2^2$.\n",
    "\n",
    "Явный шаг метода:\n",
    "$$x_{k+1} = -\\frac12\\sum_{i=1}^k h_i \\nabla f(x_i).$$"
   ]
  },
  {
   "cell_type": "code",
   "execution_count": 8,
   "metadata": {},
   "outputs": [],
   "source": [
    "def argminFunc1():\n",
    "\toldX = X0_DEF\n",
    "\n",
    "\tvecSum = STEP_DEF * 2 * A.transpose() @ (A @ oldX - b)\n",
    "\n",
    "\tnewX =  vecSum/2\n",
    "\n",
    "\tdeltaX = norm2(oldX - newX, 3)\n",
    "\t\n",
    "\twhile(deltaX > DELTA_X_DEF):\n",
    "#\t\tprint(\"func1(newX) = \", func1(newX))\n",
    "#\t\tprint(\"deltaX = \", deltaX)\n",
    "#\t\tprint(\"newX = \", newX)\n",
    "\t\tdeltaX = norm2(oldX - newX, 3)\n",
    "\t\toldX = newX\n",
    "\t\tvecSum += STEP_DEF * 2 * A.transpose() @ (A @ newX - b)\n",
    "\t\tnewX = -vecSum/2\n",
    "\n",
    "#\tprint(\"res: func1(newX) = \", func1(newX))\n",
    "#\tprint(\"res: deltaX = \", deltaX)\n",
    "#\tprint(\"res: newX = \", newX)\t\n",
    "\t\n",
    "\treturn newX"
   ]
  },
  {
   "cell_type": "markdown",
   "metadata": {},
   "source": [
    "Проверка:"
   ]
  },
  {
   "cell_type": "code",
   "execution_count": 9,
   "metadata": {},
   "outputs": [
    {
     "name": "stdout",
     "output_type": "stream",
     "text": [
      "[[0.33332709]\n",
      " [0.33332709]\n",
      " [0.33332709]]\n"
     ]
    }
   ],
   "source": [
    "x1 = argminFunc1()\n",
    "print(x1)"
   ]
  },
  {
   "cell_type": "markdown",
   "metadata": {},
   "source": [
    "Для симплекс-множества $Q = \\left\\{x\\mid \\sum_{i=1}^n x_i = 1,\\ x_i\\ge0\\right\\}$ прокс-функция $d(x) = \\sum_{i=1}^n x_i \\ln(x_i).$\n",
    "\n",
    "Явный шаг метода двойственных усреднений (покомпонентное равенство):\n",
    "\n",
    "$$x_{k+1} = \\exp\\left\\{-\\left(1+\\sum_{i=1}^k h_i \\nabla f(x_i)\\right)\\right\\}$$"
   ]
  },
  {
   "cell_type": "code",
   "execution_count": 13,
   "metadata": {},
   "outputs": [],
   "source": [
    "def argminFunc1Simplex():\n",
    "\toldX = X0_DEF\n",
    "\n",
    "\tvecSum = STEP_DEF * 2 * A.transpose() @ (A @ oldX - b)\n",
    "\n",
    "\tnewX =  vecSum/2\n",
    "\n",
    "\tdeltaX = norm2(oldX - newX, 3)\n",
    "\t\n",
    "\twhile(deltaX > DELTA_X_DEF):\n",
    "#\t\tprint(\"func1(newX) = \", func1(newX))\n",
    "#\t\tprint(\"deltaX = \", deltaX)\n",
    "#\t\tprint(\"newX = \", newX)\n",
    "\t\tdeltaX = norm2(oldX - newX, 3)\n",
    "\t\toldX = newX\n",
    "\t\tvecSum += STEP_DEF * 2 * A.transpose() @ (A @ newX - b)\n",
    "\t\tnewX = np.exp(SIMPEX_VECTOR_DEF-vecSum)\n",
    "\n",
    "#\tprint(\"res: func1(newX) = \", func1(newX))\n",
    "#\tprint(\"res: deltaX = \", deltaX)\n",
    "#\tprint(\"res: newX = \", newX)\t\n",
    "\t\n",
    "\treturn newX"
   ]
  },
  {
   "cell_type": "code",
   "execution_count": 14,
   "metadata": {},
   "outputs": [
    {
     "name": "stdout",
     "output_type": "stream",
     "text": [
      "[[0.33334282]\n",
      " [0.33334282]\n",
      " [0.33334282]]\n"
     ]
    }
   ],
   "source": [
    "x2 = argminFunc1Simplex()\n",
    "print(x2)"
   ]
  },
  {
   "cell_type": "markdown",
   "metadata": {},
   "source": [
    "Минимизируем функцию $f(x) = \\frac{1}{2} \\| Ax - b\\|_2$ для заданных матрицы $A$ и вектора $b$."
   ]
  },
  {
   "cell_type": "code",
   "execution_count": 16,
   "metadata": {},
   "outputs": [],
   "source": [
    "def func2(x):\n",
    "\tvec = A @ x - b\n",
    "\tres = norm2(vec, SIZE_N)\n",
    "\treturn res\n",
    "\n",
    "\n",
    "def argminFunc2():\n",
    "\toldX = X0_DEF\n",
    "\n",
    "\tif(func2(oldX) != 0):\n",
    "\t\tvecSum = STEP_DEF * A.transpose() @ (A @ oldX - b) / func2(oldX)\n",
    "\telse:\n",
    "\t\t#sys.exit(\"aa! errors!\")\n",
    "\t\tvecSum = 0\n",
    "\n",
    "\tnewX =  vecSum/2\n",
    "\n",
    "\tdeltaX = norm2(oldX - newX, 3)\n",
    "\t\n",
    "\twhile(deltaX > DELTA_X_DEF):\n",
    "#\t\tprint(\"func2(newX) = \", func2(newX))\n",
    "#\t\tprint(\"deltaX = \", deltaX)\n",
    "#\t\tprint(\"newX = \", newX)\n",
    "\t\tdeltaX = norm2(oldX - newX, 3)\n",
    "\t\toldX = newX\n",
    "\t\tif(func2(oldX) != 0):\n",
    "\t\t\tvecSum += STEP_DEF * A.transpose() @ (A @ newX - b) / func2(newX)\n",
    "\t\telse:\n",
    "\t\t\t#sys.exit(\"aa! errors!\")\n",
    "\t\t\tvecSum += 0\n",
    "\n",
    "\t\tnewX = -vecSum/2\n",
    "\n",
    "#\tprint(\"res: func2(newX) = \", func2(newX))\n",
    "#\tprint(\"res: deltaX = \", deltaX)\n",
    "#\tprint(\"res: newX = \", newX)\t\n",
    "\t\n",
    "\treturn newX\n",
    "\n",
    "\n",
    "def argminFunc2Simplex():\n",
    "\toldX = X0_DEF\n",
    "\n",
    "\tif(func2(oldX) != 0):\n",
    "\t\tvecSum = STEP_DEF * A.transpose() @ (A @ oldX - b) / func2(oldX)\n",
    "\telse:\n",
    "\t\t#sys.exit(\"aa! errors!\")\n",
    "\t\tvecSum = 0\n",
    "\n",
    "\tnewX =  vecSum/2\n",
    "\n",
    "\tdeltaX = norm2(oldX - newX, 3)\n",
    "\t\n",
    "\twhile(deltaX > DELTA_X_DEF):\n",
    "#\t\tprint(\"func2(newX) = \", func2(newX))\n",
    "#\t\tprint(\"deltaX = \", deltaX)\n",
    "#\t\tprint(\"newX = \", newX)\n",
    "\t\tdeltaX = norm2(oldX - newX, 3)\n",
    "\t\toldX = newX\n",
    "\t\tif(func2(oldX) != 0):\n",
    "\t\t\tvecSum += STEP_DEF * A.transpose() @ (A @ newX - b) / func2(newX)\n",
    "\t\telse:\n",
    "\t\t\t#sys.exit(\"aa! errors!\")\n",
    "\t\t\tvecSum += 0\n",
    "\n",
    "\t\tnewX = np.exp(SIMPEX_VECTOR_DEF-vecSum)\n",
    "\n",
    "#\tprint(\"res: func2(newX) = \", func2(newX))\n",
    "#\tprint(\"res: deltaX = \", deltaX)\n",
    "#\tprint(\"res: newX = \", newX)\t\n",
    "\t\n",
    "\treturn newX"
   ]
  },
  {
   "cell_type": "code",
   "execution_count": 19,
   "metadata": {},
   "outputs": [],
   "source": [
    "x3 = argminFunc2()\n",
    "print(x3)\n",
    "\n",
    "# не сходится"
   ]
  },
  {
   "cell_type": "code",
   "execution_count": 21,
   "metadata": {},
   "outputs": [],
   "source": [
    "x4 = argminFunc2Simplex()\n",
    "print(x4)\n",
    "\n",
    "# тоже не сходится"
   ]
  },
  {
   "cell_type": "code",
   "execution_count": null,
   "metadata": {},
   "outputs": [],
   "source": []
  }
 ],
 "metadata": {
  "kernelspec": {
   "display_name": "Python 3",
   "language": "python",
   "name": "python3"
  },
  "language_info": {
   "codemirror_mode": {
    "name": "ipython",
    "version": 3
   },
   "file_extension": ".py",
   "mimetype": "text/x-python",
   "name": "python",
   "nbconvert_exporter": "python",
   "pygments_lexer": "ipython3",
   "version": "3.7.1"
  }
 },
 "nbformat": 4,
 "nbformat_minor": 2
}
