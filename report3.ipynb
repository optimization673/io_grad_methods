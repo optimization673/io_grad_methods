{
 "cells": [
  {
   "cell_type": "markdown",
   "metadata": {},
   "source": [
    "## Быстрый градиентный метод"
   ]
  },
  {
   "cell_type": "code",
   "execution_count": 13,
   "metadata": {},
   "outputs": [],
   "source": [
    "import numpy as np\n",
    "import matplotlib.pyplot as plt\n",
    "\n",
    "from scipy.optimize import approx_fprime\n",
    "from numpy.linalg import norm\n",
    "#%matplotlib inline\n",
    "plt.rcParams['figure.figsize'] = (16, 10)\n",
    "plt.rcParams['figure.figsize'] = (13, 7)"
   ]
  },
  {
   "cell_type": "code",
   "execution_count": 7,
   "metadata": {},
   "outputs": [],
   "source": [
    "Y0     = 0\n",
    "# Alpha = 1/(2L)\n",
    "#ALPHA  = 1/72\n",
    "STEP   = 0.01\n",
    "L = 36"
   ]
  },
  {
   "cell_type": "code",
   "execution_count": 20,
   "metadata": {},
   "outputs": [],
   "source": [
    "#implementation\n",
    "def FastDualAveraging(target, x0, eps, set_type = \"rn\", grad = approx_fprime, step = lambda k: STEP, ALPHA = lambda k: ((k+1)/(2*L))**1):\n",
    "    index = 0\n",
    "    y_new = Y0\n",
    "                      \n",
    "    grad_sum = np.zeros((len(x0),))\n",
    "    zk = [x0]\n",
    "    \n",
    "    while True :\n",
    "        index += 1\n",
    "        y_old = y_new\n",
    "        #x_k+1\n",
    "        x_new = ALPHA(index)*y_old + (1 - ALPHA(index))*zk[index - 1]\n",
    "        grad_sum += grad(x_new, target, 0.0000001)*step(index)\n",
    "        #y_k+1 (шаг метода двойственных усреднений зависит от целевого множества)\n",
    "        if set_type == \"rn\" :\n",
    "            y_new = (-1/2*grad_sum)\n",
    "        elif set_type == \"simplex\" :\n",
    "            y_new = (np.exp(-(np.ones(len(x0)) + grad_sum)))\n",
    "        else :\n",
    "            print(\"you oblazhalsya! (rn and simplex are available only)\")\n",
    "            return zk\n",
    "        #z_k+1\n",
    "        zk.append(ALPHA(index)*(y_old) + (1 - ALPHA(index))*zk[index - 1])\n",
    "        #exit condition\n",
    "        if norm(y_new - y_old, ord = 2) < eps :\n",
    "            return zk\n",
    "\n",
    "\n",
    "def Gradient(target, x0, eps, set_type = \"rn\", grad = approx_fprime, step = lambda k: STEP, ALPHA = lambda k: ((k+1)/(2*L))**-0.5):\n",
    "    xk = [x0]\n",
    "    index = 0\n",
    "    while True:\n",
    "        index += 1\n",
    "        xk.append(xk[index - 1] - 4*ALPHA(index)*grad(xk[index - 1], target, 0.0000001))\n",
    "        if norm(xk[index] - xk[index - 1], ord = 2) < eps / 2 :\n",
    "            return xk\n",
    "        "
   ]
  },
  {
   "cell_type": "markdown",
   "metadata": {},
   "source": [
    "### Исследуем метод на сходимость и характер приближения к решению\n",
    "Будем рассматривать 2-мерное пространство для удобства визуализации, h пока считаем постоянным"
   ]
  },
  {
   "cell_type": "code",
   "execution_count": 21,
   "metadata": {},
   "outputs": [],
   "source": [
    "A = np.array([[1, 2], [2, 3]])\n",
    "b = np.array([1, 2])\n",
    "x_expl = np.array([1, 0])\n",
    "x0_rn = np.array([0.1, 0.2])\n",
    "x0_smp = np.array([0.1, 0.2])\n",
    "eps = 0.00005\n",
    "\n",
    "# ||Ax - b||^2\n",
    "def func1(x):\n",
    "    return np.linalg.norm(np.dot(A, x) - b, ord = 2)**2\n",
    "\n",
    "# ||Ax - b||\n",
    "def func2(x):\n",
    "    return np.linalg.norm(np.dot(A, x) - b, ord = 2)\n",
    "\n",
    "\n",
    "def gradFunc1(x, func1, eps = 0) :\n",
    "    return 2*A.transpose() @ (A @ x - b)\n",
    "\n",
    "def gradFunc2(x, func2, eps = 0) :\n",
    "    if np.array_equal(A @ x - b, np.zeros((len(b)))) :\n",
    "        return 0\n",
    "    else :\n",
    "        return A.transpose() @ (A @ x - b) / norm(A @ x - b, ord = 2)"
   ]
  },
  {
   "cell_type": "markdown",
   "metadata": {},
   "source": [
    "#### Построим траекторию сходимости метода для ф-ции ||Ax - b||^2 для Rn и симплекса"
   ]
  },
  {
   "cell_type": "code",
   "execution_count": 22,
   "metadata": {
    "scrolled": false
   },
   "outputs": [
    {
     "name": "stderr",
     "output_type": "stream",
     "text": [
      "C:\\ProgramData\\Anaconda3\\lib\\site-packages\\ipykernel_launcher.py:18: RuntimeWarning: overflow encountered in matmul\n",
      "C:\\ProgramData\\Anaconda3\\lib\\site-packages\\ipykernel_launcher.py:14: RuntimeWarning: invalid value encountered in add\n",
      "  \n",
      "C:\\ProgramData\\Anaconda3\\lib\\site-packages\\ipykernel_launcher.py:13: RuntimeWarning: overflow encountered in multiply\n",
      "  del sys.path[0]\n",
      "C:\\ProgramData\\Anaconda3\\lib\\site-packages\\ipykernel_launcher.py:24: RuntimeWarning: overflow encountered in multiply\n"
     ]
    },
    {
     "ename": "KeyboardInterrupt",
     "evalue": "",
     "output_type": "error",
     "traceback": [
      "\u001b[1;31m---------------------------------------------------------------------------\u001b[0m",
      "\u001b[1;31mKeyboardInterrupt\u001b[0m                         Traceback (most recent call last)",
      "\u001b[1;32m<ipython-input-22-b8ae2ffeea5b>\u001b[0m in \u001b[0;36m<module>\u001b[1;34m\u001b[0m\n\u001b[1;32m----> 1\u001b[1;33m \u001b[0mxk_rn\u001b[0m      \u001b[1;33m=\u001b[0m \u001b[0mFastDualAveraging\u001b[0m\u001b[1;33m(\u001b[0m\u001b[0mfunc1\u001b[0m\u001b[1;33m,\u001b[0m \u001b[0mx0_rn\u001b[0m\u001b[1;33m,\u001b[0m  \u001b[0meps\u001b[0m\u001b[1;33m,\u001b[0m \u001b[0mset_type\u001b[0m \u001b[1;33m=\u001b[0m \u001b[1;34m\"rn\"\u001b[0m\u001b[1;33m,\u001b[0m \u001b[0mgrad\u001b[0m \u001b[1;33m=\u001b[0m \u001b[0mgradFunc1\u001b[0m\u001b[1;33m)\u001b[0m\u001b[1;33m\u001b[0m\u001b[1;33m\u001b[0m\u001b[0m\n\u001b[0m\u001b[0;32m      2\u001b[0m \u001b[1;31m#xk_simplex = FastDualAveraging(func1, x0_smp, eps, set_type = \"simplex\", grad = gradFunc1)\u001b[0m\u001b[1;33m\u001b[0m\u001b[1;33m\u001b[0m\u001b[1;33m\u001b[0m\u001b[0m\n\u001b[0;32m      3\u001b[0m \u001b[1;31m#xk_grad    = Gradient(func1, x0_rn, eps, set_type = \"rn\", grad = gradFunc1, ALPHA = lambda k: 1/L)\u001b[0m\u001b[1;33m\u001b[0m\u001b[1;33m\u001b[0m\u001b[1;33m\u001b[0m\u001b[0m\n\u001b[0;32m      4\u001b[0m \u001b[1;33m\u001b[0m\u001b[0m\n\u001b[0;32m      5\u001b[0m \u001b[0mplt\u001b[0m\u001b[1;33m.\u001b[0m\u001b[0mscatter\u001b[0m\u001b[1;33m(\u001b[0m\u001b[1;33m[\u001b[0m\u001b[0mxk_rn\u001b[0m\u001b[1;33m[\u001b[0m\u001b[0mi\u001b[0m\u001b[1;33m]\u001b[0m\u001b[1;33m[\u001b[0m\u001b[1;36m0\u001b[0m\u001b[1;33m]\u001b[0m \u001b[1;32mfor\u001b[0m \u001b[0mi\u001b[0m \u001b[1;32min\u001b[0m \u001b[0mrange\u001b[0m\u001b[1;33m(\u001b[0m\u001b[1;36m0\u001b[0m\u001b[1;33m,\u001b[0m \u001b[0mlen\u001b[0m\u001b[1;33m(\u001b[0m\u001b[0mxk_rn\u001b[0m\u001b[1;33m)\u001b[0m\u001b[1;33m)\u001b[0m\u001b[1;33m]\u001b[0m\u001b[1;33m,\u001b[0m \u001b[1;33m[\u001b[0m\u001b[0mxk_rn\u001b[0m\u001b[1;33m[\u001b[0m\u001b[0mi\u001b[0m\u001b[1;33m]\u001b[0m\u001b[1;33m[\u001b[0m\u001b[1;36m1\u001b[0m\u001b[1;33m]\u001b[0m \u001b[1;32mfor\u001b[0m \u001b[0mi\u001b[0m \u001b[1;32min\u001b[0m \u001b[0mrange\u001b[0m\u001b[1;33m(\u001b[0m\u001b[1;36m0\u001b[0m\u001b[1;33m,\u001b[0m \u001b[0mlen\u001b[0m\u001b[1;33m(\u001b[0m\u001b[0mxk_rn\u001b[0m\u001b[1;33m)\u001b[0m\u001b[1;33m)\u001b[0m\u001b[1;33m]\u001b[0m\u001b[1;33m,\u001b[0m \u001b[0mlabel\u001b[0m \u001b[1;33m=\u001b[0m \u001b[1;34m\"Rn\"\u001b[0m\u001b[1;33m,\u001b[0m \u001b[0ms\u001b[0m\u001b[1;33m=\u001b[0m\u001b[1;36m8\u001b[0m\u001b[1;33m)\u001b[0m\u001b[1;33m\u001b[0m\u001b[1;33m\u001b[0m\u001b[0m\n",
      "\u001b[1;32m<ipython-input-20-fe7123e47871>\u001b[0m in \u001b[0;36mFastDualAveraging\u001b[1;34m(target, x0, eps, set_type, grad, step, ALPHA)\u001b[0m\n\u001b[0;32m     12\u001b[0m         \u001b[1;31m#x_k+1\u001b[0m\u001b[1;33m\u001b[0m\u001b[1;33m\u001b[0m\u001b[1;33m\u001b[0m\u001b[0m\n\u001b[0;32m     13\u001b[0m         \u001b[0mx_new\u001b[0m \u001b[1;33m=\u001b[0m \u001b[0mALPHA\u001b[0m\u001b[1;33m(\u001b[0m\u001b[0mindex\u001b[0m\u001b[1;33m)\u001b[0m\u001b[1;33m*\u001b[0m\u001b[0my_old\u001b[0m \u001b[1;33m+\u001b[0m \u001b[1;33m(\u001b[0m\u001b[1;36m1\u001b[0m \u001b[1;33m-\u001b[0m \u001b[0mALPHA\u001b[0m\u001b[1;33m(\u001b[0m\u001b[0mindex\u001b[0m\u001b[1;33m)\u001b[0m\u001b[1;33m)\u001b[0m\u001b[1;33m*\u001b[0m\u001b[0mzk\u001b[0m\u001b[1;33m[\u001b[0m\u001b[0mindex\u001b[0m \u001b[1;33m-\u001b[0m \u001b[1;36m1\u001b[0m\u001b[1;33m]\u001b[0m\u001b[1;33m\u001b[0m\u001b[1;33m\u001b[0m\u001b[0m\n\u001b[1;32m---> 14\u001b[1;33m         \u001b[0mgrad_sum\u001b[0m \u001b[1;33m+=\u001b[0m \u001b[0mgrad\u001b[0m\u001b[1;33m(\u001b[0m\u001b[0mx_new\u001b[0m\u001b[1;33m,\u001b[0m \u001b[0mtarget\u001b[0m\u001b[1;33m,\u001b[0m \u001b[1;36m0.0000001\u001b[0m\u001b[1;33m)\u001b[0m\u001b[1;33m*\u001b[0m\u001b[0mstep\u001b[0m\u001b[1;33m(\u001b[0m\u001b[0mindex\u001b[0m\u001b[1;33m)\u001b[0m\u001b[1;33m\u001b[0m\u001b[1;33m\u001b[0m\u001b[0m\n\u001b[0m\u001b[0;32m     15\u001b[0m         \u001b[1;31m#y_k+1 (шаг метода двойственных усреднений зависит от целевого множества)\u001b[0m\u001b[1;33m\u001b[0m\u001b[1;33m\u001b[0m\u001b[1;33m\u001b[0m\u001b[0m\n\u001b[0;32m     16\u001b[0m         \u001b[1;32mif\u001b[0m \u001b[0mset_type\u001b[0m \u001b[1;33m==\u001b[0m \u001b[1;34m\"rn\"\u001b[0m \u001b[1;33m:\u001b[0m\u001b[1;33m\u001b[0m\u001b[1;33m\u001b[0m\u001b[0m\n",
      "\u001b[1;32m<ipython-input-21-7567c9532bba>\u001b[0m in \u001b[0;36mgradFunc1\u001b[1;34m(x, func1, eps)\u001b[0m\n\u001b[0;32m     16\u001b[0m \u001b[1;33m\u001b[0m\u001b[0m\n\u001b[0;32m     17\u001b[0m \u001b[1;32mdef\u001b[0m \u001b[0mgradFunc1\u001b[0m\u001b[1;33m(\u001b[0m\u001b[0mx\u001b[0m\u001b[1;33m,\u001b[0m \u001b[0mfunc1\u001b[0m\u001b[1;33m,\u001b[0m \u001b[0meps\u001b[0m \u001b[1;33m=\u001b[0m \u001b[1;36m0\u001b[0m\u001b[1;33m)\u001b[0m \u001b[1;33m:\u001b[0m\u001b[1;33m\u001b[0m\u001b[1;33m\u001b[0m\u001b[0m\n\u001b[1;32m---> 18\u001b[1;33m     \u001b[1;32mreturn\u001b[0m \u001b[1;36m2\u001b[0m\u001b[1;33m*\u001b[0m\u001b[0mA\u001b[0m\u001b[1;33m.\u001b[0m\u001b[0mtranspose\u001b[0m\u001b[1;33m(\u001b[0m\u001b[1;33m)\u001b[0m \u001b[1;33m@\u001b[0m \u001b[1;33m(\u001b[0m\u001b[0mA\u001b[0m \u001b[1;33m@\u001b[0m \u001b[0mx\u001b[0m \u001b[1;33m-\u001b[0m \u001b[0mb\u001b[0m\u001b[1;33m)\u001b[0m\u001b[1;33m\u001b[0m\u001b[1;33m\u001b[0m\u001b[0m\n\u001b[0m\u001b[0;32m     19\u001b[0m \u001b[1;33m\u001b[0m\u001b[0m\n\u001b[0;32m     20\u001b[0m \u001b[1;32mdef\u001b[0m \u001b[0mgradFunc2\u001b[0m\u001b[1;33m(\u001b[0m\u001b[0mx\u001b[0m\u001b[1;33m,\u001b[0m \u001b[0mfunc2\u001b[0m\u001b[1;33m,\u001b[0m \u001b[0meps\u001b[0m \u001b[1;33m=\u001b[0m \u001b[1;36m0\u001b[0m\u001b[1;33m)\u001b[0m \u001b[1;33m:\u001b[0m\u001b[1;33m\u001b[0m\u001b[1;33m\u001b[0m\u001b[0m\n",
      "\u001b[1;31mKeyboardInterrupt\u001b[0m: "
     ]
    }
   ],
   "source": [
    "xk_rn      = FastDualAveraging(func1, x0_rn,  eps, set_type = \"rn\", grad = gradFunc1)\n",
    "#xk_simplex = FastDualAveraging(func1, x0_smp, eps, set_type = \"simplex\", grad = gradFunc1)\n",
    "#xk_grad    = Gradient(func1, x0_rn, eps, set_type = \"rn\", grad = gradFunc1, ALPHA = lambda k: 1/L)\n",
    "\n",
    "plt.scatter([xk_rn[i][0] for i in range(0, len(xk_rn))], [xk_rn[i][1] for i in range(0, len(xk_rn))], label = \"Rn\", s=8)\n",
    "#plt.scatter([xk_simplex[i][0] for i in range(0, len(xk_simplex))], [xk_simplex[i][1] for i in range(0, len(xk_simplex))], label = \"simplex\", s=8)\n",
    "#plt.scatter([xk_grad[i][0] for i in range(0, len(xk_grad))], [xk_grad[i][1] for i in range(0, len(xk_grad))], label = \"Rn_grad\", s=8)\n",
    "\n",
    "plt.scatter(x_expl[0], x_expl[1], label = \"expl solution\", s = 14)\n",
    "plt.scatter(x0_rn[0], x0_rn[1], label = \"start point\", s = 14)\n",
    "\n",
    "plt.xlabel(\"x\")\n",
    "plt.ylabel(\"y\")\n",
    "plt.title(\"||Ax - b||^2\")\n",
    "plt.legend()"
   ]
  },
  {
   "cell_type": "markdown",
   "metadata": {},
   "source": [
    "#### Построим график :\n",
    "$$lnDiff(k) = \\ln\\left(\\frac{f(x_k) - f(x_*)}{f(x_0) - f(x_*)}\\right)$$"
   ]
  },
  {
   "cell_type": "code",
   "execution_count": 70,
   "metadata": {},
   "outputs": [],
   "source": [
    "def ln_diff(x):\n",
    "    return np.log((func1(x) - func1(x_expl))/(func1(x0_rn) - func1(x_expl)))"
   ]
  },
  {
   "cell_type": "code",
   "execution_count": 71,
   "metadata": {},
   "outputs": [
    {
     "data": {
      "text/plain": [
       "<matplotlib.legend.Legend at 0x26e26a5ccf8>"
      ]
     },
     "execution_count": 71,
     "metadata": {},
     "output_type": "execute_result"
    },
    {
     "data": {
      "image/png": "[encoded data removed]",
      "text/plain": [
       "<Figure size 1152x720 with 1 Axes>"
      ]
     },
     "metadata": {
      "needs_background": "light"
     },
     "output_type": "display_data"
    }
   ],
   "source": [
    "plt.plot([ln_diff(xk_rn[i]) for i in range(3, len(xk_rn))], label = \"Rn\")\n",
    "plt.plot([ln_diff(xk_grad[i]) for i in range(3, len(xk_grad))], label = \"Rn_grad\")\n",
    "plt.xlabel(\"k\")\n",
    "plt.ylabel(\"ln(...)\")\n",
    "plt.legend()"
   ]
  },
  {
   "cell_type": "code",
   "execution_count": 72,
   "metadata": {},
   "outputs": [
    {
     "data": {
      "text/plain": [
       "array([0.92370464, 0.04715313])"
      ]
     },
     "execution_count": 72,
     "metadata": {},
     "output_type": "execute_result"
    }
   ],
   "source": [
    "xk_rn[len(xk_rn) - 1]"
   ]
  },
  {
   "cell_type": "code",
   "execution_count": 73,
   "metadata": {},
   "outputs": [
    {
     "data": {
      "text/plain": [
       "array([9.99963010e-01, 8.21994803e-06])"
      ]
     },
     "execution_count": 73,
     "metadata": {},
     "output_type": "execute_result"
    }
   ],
   "source": [
    "xk_grad[len(xk_grad) - 1]"
   ]
  },
  {
   "cell_type": "code",
   "execution_count": null,
   "metadata": {},
   "outputs": [],
   "source": []
  }
 ],
 "metadata": {
  "kernelspec": {
   "display_name": "Python 3",
   "language": "python",
   "name": "python3"
  },
  "language_info": {
   "codemirror_mode": {
    "name": "ipython",
    "version": 3
   },
   "file_extension": ".py",
   "mimetype": "text/x-python",
   "name": "python",
   "nbconvert_exporter": "python",
   "pygments_lexer": "ipython3",
   "version": "3.7.3"
  }
 },
 "nbformat": 4,
 "nbformat_minor": 2
}
